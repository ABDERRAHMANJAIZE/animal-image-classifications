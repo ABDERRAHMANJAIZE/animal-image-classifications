{
 "cells": [
  {
   "cell_type": "markdown",
   "metadata": {},
   "source": [
    "## __Objective:__ Create a multiclass image classifier\n",
    "\n",
    "## __Purpose:__ Can be used to classify  species of animal\n",
    "\n",
    "### Use transfer learning and vgg16 model"
   ]
  },
  {
   "cell_type": "markdown",
   "metadata": {},
   "source": [
    "### importing necessary libraries"
   ]
  },
  {
   "cell_type": "code",
   "execution_count": 54,
   "metadata": {},
   "outputs": [],
   "source": [
    "import pandas as pd\n",
    "import numpy as np \n",
    "import itertools\n",
    "import keras\n",
    "from sklearn import metrics\n",
    "from sklearn.metrics import confusion_matrix\n",
    "from keras.preprocessing.image import ImageDataGenerator, img_to_array, load_img \n",
    "from keras.models import Sequential \n",
    "from keras import optimizers\n",
    "from keras.preprocessing import image\n",
    "from keras.layers import Dropout, Flatten, Dense  \n",
    "from keras import applications  \n",
    "from keras.utils.np_utils import to_categorical  \n",
    "import matplotlib.pyplot as plt \n",
    "import matplotlib.image as mpimg\n",
    "%matplotlib inline\n",
    "import math  \n",
    "import datetime\n",
    "import time"
   ]
  },
  {
   "cell_type": "markdown",
   "metadata": {},
   "source": [
    "Loading up our image datasets"
   ]
  },
  {
   "cell_type": "code",
   "execution_count": 13,
   "metadata": {},
   "outputs": [],
   "source": [
    "#Default dimensions we found online\n",
    "img_width, img_height = 224, 224  \n",
    "   \n",
    "#Create a bottleneck file\n",
    "top_model_weights_path = 'bottleneck_fc_model.h5' \n",
    "\n",
    "# loading up our datasets\n",
    "train_data_dir = 'data/train'  \n",
    "validation_data_dir = 'data/validation'  \n",
    "test_data_dir = 'data/test'\n",
    "   \n",
    "# number of epochs to train top model  \n",
    "epochs = 7 #this has been changed after multiple model run  \n",
    "# batch size used by flow_from_directory and predict_generator  \n",
    "batch_size = 50  "
   ]
  },
  {
   "cell_type": "code",
   "execution_count": 14,
   "metadata": {},
   "outputs": [],
   "source": [
    "#Loading vgc16 model\n",
    "vgg16 = applications.VGG16(include_top=False, weights='imagenet') "
   ]
  },
  {
   "cell_type": "code",
   "execution_count": 15,
   "metadata": {},
   "outputs": [],
   "source": [
    "datagen = ImageDataGenerator(rescale=1. / 255)  #needed to create the bottleneck .npy files"
   ]
  },
  {
   "cell_type": "markdown",
   "metadata": {},
   "source": [
    "# Creation of weights/features with VGG16"
   ]
  },
  {
   "cell_type": "markdown",
   "metadata": {},
   "source": [
    "#__this can take an hour and half to run so only run it once. once the npy files have been created, no need to run again. Convert this cell to a code cell to run.__\n",
    "\n",
    "start = datetime.datetime.now()\n",
    "   \n",
    "generator = datagen.flow_from_directory(  \n",
    "     train_data_dir,  \n",
    "     target_size=(img_width, img_height),  \n",
    "     batch_size=batch_size,  \n",
    "     class_mode=None,  \n",
    "     shuffle=False)  \n",
    "   \n",
    "nb_train_samples = len(generator.filenames)  \n",
    "num_classes = len(generator.class_indices)  \n",
    "   \n",
    "predict_size_train = int(math.ceil(nb_train_samples / batch_size))  \n",
    "   \n",
    "bottleneck_features_train = vgg16.predict_generator(generator, predict_size_train)  \n",
    "   \n",
    "np.save('bottleneck_features_train.npy', bottleneck_features_train)\n",
    "end= datetime.datetime.now()\n",
    "elapsed= end-start\n",
    "print ('Time: ', elapsed)"
   ]
  },
  {
   "cell_type": "code",
   "execution_count": 16,
   "metadata": {},
   "outputs": [
    {
     "name": "stdout",
     "output_type": "stream",
     "text": [
      "---------------------------------------------------------------------------------------------------------------------\n"
     ]
    }
   ],
   "source": [
    "print('-'*117)"
   ]
  },
  {
   "cell_type": "markdown",
   "metadata": {},
   "source": [
    "#__this can take half an hour to run so only run it once. once the npy files have been created, no need to run again. Convert this cell to a code cell to run.__\n",
    "\n",
    "start = datetime.datetime.now()\n",
    "generator = datagen.flow_from_directory(  \n",
    "     validation_data_dir,  \n",
    "     target_size=(img_width, img_height),  \n",
    "     batch_size=batch_size,  \n",
    "     class_mode=None,  \n",
    "     shuffle=False)  \n",
    "   \n",
    "nb_validation_samples = len(generator.filenames)  \n",
    "   \n",
    "predict_size_validation = int(math.ceil(nb_validation_samples / batch_size))  \n",
    "   \n",
    "bottleneck_features_validation = vgg16.predict_generator(  \n",
    "     generator, predict_size_validation)  \n",
    "   \n",
    "np.save('bottleneck_features_validation.npy', bottleneck_features_validation) \n",
    "end= datetime.datetime.now()\n",
    "elapsed= end-start\n",
    "print ('Time: ', elapsed)"
   ]
  },
  {
   "cell_type": "code",
   "execution_count": 17,
   "metadata": {},
   "outputs": [
    {
     "name": "stdout",
     "output_type": "stream",
     "text": [
      "---------------------------------------------------------------------------------------------------------------------\n"
     ]
    }
   ],
   "source": [
    "print('-'*117)"
   ]
  },
  {
   "cell_type": "markdown",
   "metadata": {},
   "source": [
    "#__this can take half an hour to run so only run it once. once the npy files have been created, no need to run again. Convert this cell to a code cell to run.__\n",
    "\n",
    "start = datetime.datetime.now()\n",
    "generator = datagen.flow_from_directory(  \n",
    "     test_data_dir,  \n",
    "     target_size=(img_width, img_height),  \n",
    "     batch_size=batch_size,  \n",
    "     class_mode=None,  \n",
    "     shuffle=False)  \n",
    "   \n",
    "nb_test_samples = len(generator.filenames)  \n",
    "   \n",
    "predict_size_test = int(math.ceil(nb_test_samples / batch_size))  \n",
    "   \n",
    "bottleneck_features_test = vgg16.predict_generator(  \n",
    "     generator, predict_size_test)  \n",
    "   \n",
    "np.save('bottleneck_features_test.npy', bottleneck_features_test) \n",
    "end= datetime.datetime.now()\n",
    "elapsed= end-start\n",
    "print ('Time: ', elapsed)"
   ]
  },
  {
   "cell_type": "markdown",
   "metadata": {},
   "source": [
    "# Loading training, validation and testing data"
   ]
  },
  {
   "cell_type": "code",
   "execution_count": 18,
   "metadata": {},
   "outputs": [],
   "source": [
    "datagen_top = ImageDataGenerator(rescale=1./255) "
   ]
  },
  {
   "cell_type": "code",
   "execution_count": 19,
   "metadata": {},
   "outputs": [
    {
     "name": "stdout",
     "output_type": "stream",
     "text": [
      "Found 13412 images belonging to 6 classes.\n"
     ]
    }
   ],
   "source": [
    "#training data\n",
    "generator_top = datagen_top.flow_from_directory(  \n",
    "         train_data_dir,  \n",
    "         target_size=(img_width, img_height),  \n",
    "         batch_size=batch_size,  \n",
    "         class_mode='categorical',  \n",
    "         shuffle=False)  \n",
    "   \n",
    "nb_train_samples = len(generator_top.filenames)  \n",
    "num_classes = len(generator_top.class_indices)  \n",
    "   \n",
    "# load the bottleneck features saved earlier  \n",
    "train_data = np.load('bottleneck_features_train.npy')  \n",
    "   \n",
    "# get the class lebels for the training data, in the original order  \n",
    "train_labels = generator_top.classes  \n",
    "   \n",
    "# convert the training labels to categorical vectors  \n",
    "train_labels = to_categorical(train_labels, num_classes=num_classes) "
   ]
  },
  {
   "cell_type": "code",
   "execution_count": 20,
   "metadata": {},
   "outputs": [
    {
     "name": "stdout",
     "output_type": "stream",
     "text": [
      "Found 2549 images belonging to 6 classes.\n"
     ]
    }
   ],
   "source": [
    "#validation data\n",
    "generator_top = datagen_top.flow_from_directory(  \n",
    "         validation_data_dir,  \n",
    "         target_size=(img_width, img_height),  \n",
    "         batch_size=batch_size,  \n",
    "         class_mode=None,  \n",
    "         shuffle=False)  \n",
    "   \n",
    "nb_validation_samples = len(generator_top.filenames)  \n",
    "   \n",
    "validation_data = np.load('bottleneck_features_validation.npy')  \n",
    "   \n",
    "\n",
    "validation_labels = generator_top.classes  \n",
    "validation_labels = to_categorical(validation_labels, num_classes=num_classes)  "
   ]
  },
  {
   "cell_type": "code",
   "execution_count": 21,
   "metadata": {},
   "outputs": [
    {
     "name": "stdout",
     "output_type": "stream",
     "text": [
      "Found 1845 images belonging to 6 classes.\n"
     ]
    }
   ],
   "source": [
    "#testing data\n",
    "generator_top = datagen_top.flow_from_directory(  \n",
    "         test_data_dir,  \n",
    "         target_size=(img_width, img_height),  \n",
    "         batch_size=batch_size,  \n",
    "         class_mode=None,  \n",
    "         shuffle=False)  \n",
    "   \n",
    "nb_test_samples = len(generator_top.filenames)  \n",
    "   \n",
    "test_data = np.load('bottleneck_features_test.npy')  \n",
    "   \n",
    "\n",
    "test_labels = generator_top.classes  \n",
    "test_labels = to_categorical(test_labels, num_classes=num_classes)"
   ]
  },
  {
   "cell_type": "markdown",
   "metadata": {},
   "source": [
    "# Training of model"
   ]
  },
  {
   "cell_type": "code",
   "execution_count": 22,
   "metadata": {},
   "outputs": [
    {
     "name": "stdout",
     "output_type": "stream",
     "text": [
      "Train on 13412 samples, validate on 2549 samples\n",
      "Epoch 1/7\n",
      "13412/13412 [==============================] - 17s 1ms/step - loss: 0.7741 - acc: 0.7272 - val_loss: 0.4068 - val_acc: 0.8599\n",
      "Epoch 2/7\n",
      "13412/13412 [==============================] - 12s 889us/step - loss: 0.4357 - acc: 0.8545 - val_loss: 0.3067 - val_acc: 0.8941\n",
      "Epoch 3/7\n",
      "13412/13412 [==============================] - 11s 836us/step - loss: 0.3428 - acc: 0.8844 - val_loss: 0.2862 - val_acc: 0.9039\n",
      "Epoch 4/7\n",
      "13412/13412 [==============================] - 11s 847us/step - loss: 0.2899 - acc: 0.9052 - val_loss: 0.2621 - val_acc: 0.9117\n",
      "Epoch 5/7\n",
      "13412/13412 [==============================] - 11s 837us/step - loss: 0.2529 - acc: 0.9159 - val_loss: 0.2787 - val_acc: 0.9106\n",
      "Epoch 6/7\n",
      "13412/13412 [==============================] - 11s 807us/step - loss: 0.2122 - acc: 0.9313 - val_loss: 0.3232 - val_acc: 0.8898\n",
      "Epoch 7/7\n",
      "13412/13412 [==============================] - 11s 801us/step - loss: 0.1966 - acc: 0.9360 - val_loss: 0.2783 - val_acc: 0.9113\n",
      "2549/2549 [==============================] - 0s 153us/step\n",
      "[INFO] accuracy: 91.13%\n",
      "[INFO] Loss: 0.27828964176114607\n",
      "Time:  0:01:25.698219\n"
     ]
    }
   ],
   "source": [
    "#This is the best model we found. For additional models, check out I_notebook.ipynb\n",
    "start = datetime.datetime.now()\n",
    "model = Sequential()  \n",
    "model.add(Flatten(input_shape=train_data.shape[1:]))  \n",
    "model.add(Dense(100, activation=keras.layers.LeakyReLU(alpha=0.3)))  \n",
    "model.add(Dropout(0.5))  \n",
    "model.add(Dense(50, activation=keras.layers.LeakyReLU(alpha=0.3)))  \n",
    "model.add(Dropout(0.3)) \n",
    "model.add(Dense(num_classes, activation='softmax'))  \n",
    "\n",
    "model.compile(loss='categorical_crossentropy',\n",
    "              optimizer=optimizers.RMSprop(lr=1e-4),\n",
    "              metrics=['acc'])  \n",
    "\n",
    "history = model.fit(train_data, train_labels,  \n",
    "      epochs=7,\n",
    "      batch_size=batch_size,  \n",
    "      validation_data=(validation_data, validation_labels))  \n",
    "\n",
    "model.save_weights(top_model_weights_path)  \n",
    "\n",
    "(eval_loss, eval_accuracy) = model.evaluate(  \n",
    " validation_data, validation_labels, batch_size=batch_size, verbose=1)\n",
    "\n",
    "print(\"[INFO] accuracy: {:.2f}%\".format(eval_accuracy * 100))  \n",
    "print(\"[INFO] Loss: {}\".format(eval_loss))  \n",
    "end= datetime.datetime.now()\n",
    "elapsed= end-start\n",
    "print ('Time: ', elapsed)"
   ]
  },
  {
   "cell_type": "code",
   "execution_count": 23,
   "metadata": {},
   "outputs": [
    {
     "name": "stdout",
     "output_type": "stream",
     "text": [
      "_________________________________________________________________\n",
      "Layer (type)                 Output Shape              Param #   \n",
      "=================================================================\n",
      "flatten_2 (Flatten)          (None, 25088)             0         \n",
      "_________________________________________________________________\n",
      "dense_4 (Dense)              (None, 100)               2508900   \n",
      "_________________________________________________________________\n",
      "dropout_3 (Dropout)          (None, 100)               0         \n",
      "_________________________________________________________________\n",
      "dense_5 (Dense)              (None, 50)                5050      \n",
      "_________________________________________________________________\n",
      "dropout_4 (Dropout)          (None, 50)                0         \n",
      "_________________________________________________________________\n",
      "dense_6 (Dense)              (None, 6)                 306       \n",
      "=================================================================\n",
      "Total params: 2,514,256\n",
      "Trainable params: 2,514,256\n",
      "Non-trainable params: 0\n",
      "_________________________________________________________________\n"
     ]
    }
   ],
   "source": [
    "#Model summary\n",
    "model.summary()"
   ]
  },
  {
   "cell_type": "code",
   "execution_count": 24,
   "metadata": {},
   "outputs": [
    {
     "data": {
      "image/png": "[encoded data removed]",
      "text/plain": [
       "<Figure size 432x288 with 1 Axes>"
      ]
     },
     "metadata": {
      "needs_background": "light"
     },
     "output_type": "display_data"
    },
    {
     "data": {
      "image/png": "[encoded data removed]",
      "text/plain": [
       "<Figure size 432x288 with 1 Axes>"
      ]
     },
     "metadata": {
      "needs_background": "light"
     },
     "output_type": "display_data"
    }
   ],
   "source": [
    "#Graphing our training and validation\n",
    "acc = history.history['acc']\n",
    "val_acc = history.history['val_acc']\n",
    "loss = history.history['loss']\n",
    "val_loss = history.history['val_loss']\n",
    "epochs = range(len(acc))\n",
    "plt.plot(epochs, acc, 'r', label='Training acc')\n",
    "plt.plot(epochs, val_acc, 'b', label='Validation acc')\n",
    "plt.title('Training and validation accuracy')\n",
    "plt.ylabel('accuracy')  \n",
    "plt.xlabel('epoch')\n",
    "plt.legend()\n",
    "plt.figure()\n",
    "plt.plot(epochs, loss, 'r', label='Training loss')\n",
    "plt.plot(epochs, val_loss, 'b', label='Validation loss')\n",
    "plt.title('Training and validation loss')\n",
    "plt.ylabel('loss')  \n",
    "plt.xlabel('epoch')\n",
    "plt.legend()\n",
    "plt.show()"
   ]
  },
  {
   "cell_type": "markdown",
   "metadata": {},
   "source": [
    "## Model Evaluation on Testing Set"
   ]
  },
  {
   "cell_type": "code",
   "execution_count": 25,
   "metadata": {
    "scrolled": true
   },
   "outputs": [
    {
     "name": "stdout",
     "output_type": "stream",
     "text": [
      "1845/1845 [==============================] - 1s 517us/step\n"
     ]
    },
    {
     "data": {
      "text/plain": [
       "[0.286522056093707, 0.9094850948832546]"
      ]
     },
     "execution_count": 25,
     "metadata": {},
     "output_type": "execute_result"
    }
   ],
   "source": [
    "model.evaluate(test_data, test_labels)"
   ]
  },
  {
   "cell_type": "markdown",
   "metadata": {},
   "source": [
    "## Classification metrics and Confusion Matrix"
   ]
  },
  {
   "cell_type": "markdown",
   "metadata": {},
   "source": [
    "### Classification Metrics"
   ]
  },
  {
   "cell_type": "code",
   "execution_count": 26,
   "metadata": {},
   "outputs": [
    {
     "name": "stdout",
     "output_type": "stream",
     "text": [
      "test data [[[[1.62910283e-01 0.00000000e+00 0.00000000e+00 ... 0.00000000e+00\n",
      "    7.54943728e-01 0.00000000e+00]\n",
      "   [9.73952040e-02 0.00000000e+00 0.00000000e+00 ... 0.00000000e+00\n",
      "    6.17594182e-01 0.00000000e+00]\n",
      "   [0.00000000e+00 0.00000000e+00 0.00000000e+00 ... 0.00000000e+00\n",
      "    4.81749803e-01 0.00000000e+00]\n",
      "   ...\n",
      "   [0.00000000e+00 0.00000000e+00 0.00000000e+00 ... 0.00000000e+00\n",
      "    4.90739763e-01 0.00000000e+00]\n",
      "   [0.00000000e+00 0.00000000e+00 0.00000000e+00 ... 0.00000000e+00\n",
      "    4.19955909e-01 0.00000000e+00]\n",
      "   [0.00000000e+00 0.00000000e+00 0.00000000e+00 ... 0.00000000e+00\n",
      "    5.68091333e-01 0.00000000e+00]]\n",
      "\n",
      "  [[0.00000000e+00 0.00000000e+00 0.00000000e+00 ... 0.00000000e+00\n",
      "    5.71550012e-01 0.00000000e+00]\n",
      "   [0.00000000e+00 0.00000000e+00 2.10543305e-01 ... 0.00000000e+00\n",
      "    3.51710707e-01 0.00000000e+00]\n",
      "   [0.00000000e+00 0.00000000e+00 6.56101227e-01 ... 0.00000000e+00\n",
      "    1.31017089e-01 0.00000000e+00]\n",
      "   ...\n",
      "   [0.00000000e+00 0.00000000e+00 4.20266658e-01 ... 0.00000000e+00\n",
      "    2.72110671e-01 0.00000000e+00]\n",
      "   [0.00000000e+00 0.00000000e+00 6.01641834e-01 ... 0.00000000e+00\n",
      "    2.36603856e-01 0.00000000e+00]\n",
      "   [0.00000000e+00 0.00000000e+00 0.00000000e+00 ... 0.00000000e+00\n",
      "    3.80211979e-01 0.00000000e+00]]\n",
      "\n",
      "  [[0.00000000e+00 0.00000000e+00 0.00000000e+00 ... 0.00000000e+00\n",
      "    6.11291170e-01 0.00000000e+00]\n",
      "   [0.00000000e+00 0.00000000e+00 1.34456348e+00 ... 0.00000000e+00\n",
      "    2.73023814e-01 0.00000000e+00]\n",
      "   [0.00000000e+00 0.00000000e+00 2.04151082e+00 ... 0.00000000e+00\n",
      "    0.00000000e+00 0.00000000e+00]\n",
      "   ...\n",
      "   [1.85347736e-01 0.00000000e+00 0.00000000e+00 ... 0.00000000e+00\n",
      "    0.00000000e+00 0.00000000e+00]\n",
      "   [3.18986595e-01 0.00000000e+00 5.86764395e-01 ... 5.43534338e-01\n",
      "    2.87956595e-02 0.00000000e+00]\n",
      "   [0.00000000e+00 0.00000000e+00 3.07244062e-02 ... 0.00000000e+00\n",
      "    1.65340304e-01 0.00000000e+00]]\n",
      "\n",
      "  ...\n",
      "\n",
      "  [[0.00000000e+00 0.00000000e+00 2.26079583e-01 ... 0.00000000e+00\n",
      "    7.81377614e-01 0.00000000e+00]\n",
      "   [3.04938525e-01 0.00000000e+00 8.86197925e-01 ... 0.00000000e+00\n",
      "    8.57958436e-01 0.00000000e+00]\n",
      "   [1.00945687e+00 0.00000000e+00 1.43036103e+00 ... 0.00000000e+00\n",
      "    0.00000000e+00 0.00000000e+00]\n",
      "   ...\n",
      "   [7.55731761e-03 0.00000000e+00 1.38314462e+00 ... 0.00000000e+00\n",
      "    4.19555604e-01 0.00000000e+00]\n",
      "   [0.00000000e+00 0.00000000e+00 5.41599452e-01 ... 0.00000000e+00\n",
      "    0.00000000e+00 0.00000000e+00]\n",
      "   [0.00000000e+00 0.00000000e+00 0.00000000e+00 ... 0.00000000e+00\n",
      "    4.43584591e-01 0.00000000e+00]]\n",
      "\n",
      "  [[0.00000000e+00 0.00000000e+00 3.35014820e-01 ... 0.00000000e+00\n",
      "    9.47265744e-01 0.00000000e+00]\n",
      "   [2.91338444e-01 0.00000000e+00 9.04450059e-01 ... 0.00000000e+00\n",
      "    1.17925084e+00 0.00000000e+00]\n",
      "   [5.30939519e-01 0.00000000e+00 1.83613181e+00 ... 0.00000000e+00\n",
      "    8.10585260e-01 0.00000000e+00]\n",
      "   ...\n",
      "   [0.00000000e+00 0.00000000e+00 1.43227601e+00 ... 0.00000000e+00\n",
      "    3.92884314e-01 0.00000000e+00]\n",
      "   [0.00000000e+00 0.00000000e+00 0.00000000e+00 ... 0.00000000e+00\n",
      "    5.36076784e-01 0.00000000e+00]\n",
      "   [0.00000000e+00 0.00000000e+00 0.00000000e+00 ... 0.00000000e+00\n",
      "    5.76381624e-01 0.00000000e+00]]\n",
      "\n",
      "  [[0.00000000e+00 0.00000000e+00 1.76035732e-01 ... 0.00000000e+00\n",
      "    1.09022713e+00 0.00000000e+00]\n",
      "   [2.85193682e-01 0.00000000e+00 0.00000000e+00 ... 0.00000000e+00\n",
      "    9.74584103e-01 0.00000000e+00]\n",
      "   [3.71666878e-01 0.00000000e+00 5.94100416e-01 ... 0.00000000e+00\n",
      "    9.23797011e-01 0.00000000e+00]\n",
      "   ...\n",
      "   [0.00000000e+00 0.00000000e+00 0.00000000e+00 ... 0.00000000e+00\n",
      "    1.29053831e+00 0.00000000e+00]\n",
      "   [2.23176628e-02 0.00000000e+00 0.00000000e+00 ... 0.00000000e+00\n",
      "    9.99898195e-01 0.00000000e+00]\n",
      "   [0.00000000e+00 0.00000000e+00 4.88149226e-02 ... 0.00000000e+00\n",
      "    6.57890737e-01 0.00000000e+00]]]\n",
      "\n",
      "\n",
      " [[[2.73834437e-01 0.00000000e+00 0.00000000e+00 ... 0.00000000e+00\n",
      "    7.26639390e-01 0.00000000e+00]\n",
      "   [0.00000000e+00 0.00000000e+00 1.56045794e+00 ... 0.00000000e+00\n",
      "    5.10039389e-01 0.00000000e+00]\n",
      "   [0.00000000e+00 0.00000000e+00 1.78128552e+00 ... 0.00000000e+00\n",
      "    7.29214787e-01 9.99811292e-03]\n",
      "   ...\n",
      "   [0.00000000e+00 0.00000000e+00 0.00000000e+00 ... 0.00000000e+00\n",
      "    6.89068615e-01 0.00000000e+00]\n",
      "   [0.00000000e+00 0.00000000e+00 0.00000000e+00 ... 0.00000000e+00\n",
      "    6.45710766e-01 0.00000000e+00]\n",
      "   [0.00000000e+00 0.00000000e+00 0.00000000e+00 ... 0.00000000e+00\n",
      "    7.08887458e-01 0.00000000e+00]]\n",
      "\n",
      "  [[0.00000000e+00 0.00000000e+00 0.00000000e+00 ... 0.00000000e+00\n",
      "    6.40433252e-01 0.00000000e+00]\n",
      "   [3.88348073e-01 0.00000000e+00 2.67521906e+00 ... 0.00000000e+00\n",
      "    1.37850106e-01 0.00000000e+00]\n",
      "   [4.37502295e-01 0.00000000e+00 2.98890901e+00 ... 0.00000000e+00\n",
      "    0.00000000e+00 0.00000000e+00]\n",
      "   ...\n",
      "   [0.00000000e+00 0.00000000e+00 0.00000000e+00 ... 0.00000000e+00\n",
      "    6.11267269e-01 0.00000000e+00]\n",
      "   [0.00000000e+00 0.00000000e+00 7.11579680e-01 ... 0.00000000e+00\n",
      "    4.86738622e-01 0.00000000e+00]\n",
      "   [1.92463398e-03 0.00000000e+00 1.77613676e-01 ... 0.00000000e+00\n",
      "    4.44362462e-01 0.00000000e+00]]\n",
      "\n",
      "  [[0.00000000e+00 0.00000000e+00 0.00000000e+00 ... 0.00000000e+00\n",
      "    5.99643826e-01 0.00000000e+00]\n",
      "   [0.00000000e+00 0.00000000e+00 1.27427840e+00 ... 0.00000000e+00\n",
      "    7.89420247e-01 0.00000000e+00]\n",
      "   [5.91924191e-01 0.00000000e+00 1.41347194e+00 ... 0.00000000e+00\n",
      "    1.61733091e-01 0.00000000e+00]\n",
      "   ...\n",
      "   [0.00000000e+00 0.00000000e+00 1.27271950e-01 ... 0.00000000e+00\n",
      "    3.33893239e-01 0.00000000e+00]\n",
      "   [0.00000000e+00 0.00000000e+00 1.45881844e+00 ... 0.00000000e+00\n",
      "    0.00000000e+00 0.00000000e+00]\n",
      "   [2.36974388e-01 0.00000000e+00 6.18505061e-01 ... 0.00000000e+00\n",
      "    3.62876177e-01 0.00000000e+00]]\n",
      "\n",
      "  ...\n",
      "\n",
      "  [[0.00000000e+00 0.00000000e+00 1.08139545e-01 ... 0.00000000e+00\n",
      "    5.10273874e-01 0.00000000e+00]\n",
      "   [4.12059844e-01 0.00000000e+00 1.27444839e+00 ... 0.00000000e+00\n",
      "    9.27470922e-02 0.00000000e+00]\n",
      "   [1.68289018e+00 0.00000000e+00 1.77466989e+00 ... 2.29352713e-01\n",
      "    4.08676088e-01 0.00000000e+00]\n",
      "   ...\n",
      "   [9.90965247e-01 0.00000000e+00 4.97264534e-01 ... 0.00000000e+00\n",
      "    7.73517311e-01 0.00000000e+00]\n",
      "   [1.00967479e+00 0.00000000e+00 8.21011901e-01 ... 0.00000000e+00\n",
      "    7.38298535e-01 0.00000000e+00]\n",
      "   [9.30035174e-01 0.00000000e+00 0.00000000e+00 ... 0.00000000e+00\n",
      "    4.40375686e-01 0.00000000e+00]]\n",
      "\n",
      "  [[0.00000000e+00 0.00000000e+00 0.00000000e+00 ... 0.00000000e+00\n",
      "    4.42449331e-01 0.00000000e+00]\n",
      "   [0.00000000e+00 0.00000000e+00 0.00000000e+00 ... 0.00000000e+00\n",
      "    5.46958148e-01 0.00000000e+00]\n",
      "   [1.07048488e+00 0.00000000e+00 3.52120996e-02 ... 0.00000000e+00\n",
      "    8.30152392e-01 0.00000000e+00]\n",
      "   ...\n",
      "   [0.00000000e+00 0.00000000e+00 6.13871157e-01 ... 0.00000000e+00\n",
      "    1.10655332e+00 0.00000000e+00]\n",
      "   [3.68341863e-01 0.00000000e+00 9.36663151e-01 ... 0.00000000e+00\n",
      "    1.54581344e+00 0.00000000e+00]\n",
      "   [5.42760253e-01 0.00000000e+00 7.68782794e-02 ... 0.00000000e+00\n",
      "    1.24966550e+00 0.00000000e+00]]\n",
      "\n",
      "  [[1.33919269e-02 0.00000000e+00 0.00000000e+00 ... 0.00000000e+00\n",
      "    7.75991440e-01 0.00000000e+00]\n",
      "   [2.11467192e-01 0.00000000e+00 0.00000000e+00 ... 0.00000000e+00\n",
      "    6.13920033e-01 0.00000000e+00]\n",
      "   [1.31123930e-01 0.00000000e+00 0.00000000e+00 ... 0.00000000e+00\n",
      "    6.74110830e-01 0.00000000e+00]\n",
      "   ...\n",
      "   [0.00000000e+00 0.00000000e+00 0.00000000e+00 ... 0.00000000e+00\n",
      "    1.19881630e+00 0.00000000e+00]\n",
      "   [0.00000000e+00 0.00000000e+00 2.96962827e-01 ... 0.00000000e+00\n",
      "    1.47787678e+00 0.00000000e+00]\n",
      "   [0.00000000e+00 0.00000000e+00 3.80878747e-01 ... 0.00000000e+00\n",
      "    1.38274217e+00 0.00000000e+00]]]\n",
      "\n",
      "\n",
      " [[[1.89817011e-01 0.00000000e+00 0.00000000e+00 ... 0.00000000e+00\n",
      "    1.02979565e+00 0.00000000e+00]\n",
      "   [0.00000000e+00 0.00000000e+00 7.44409740e-01 ... 1.01918951e-02\n",
      "    5.27130902e-01 0.00000000e+00]\n",
      "   [0.00000000e+00 0.00000000e+00 1.16984391e+00 ... 3.05882931e-01\n",
      "    8.06014895e-01 0.00000000e+00]\n",
      "   ...\n",
      "   [0.00000000e+00 0.00000000e+00 0.00000000e+00 ... 0.00000000e+00\n",
      "    1.14445472e+00 0.00000000e+00]\n",
      "   [5.05991131e-02 0.00000000e+00 0.00000000e+00 ... 0.00000000e+00\n",
      "    8.08722675e-01 0.00000000e+00]\n",
      "   [1.14347339e-01 0.00000000e+00 0.00000000e+00 ... 0.00000000e+00\n",
      "    8.02070916e-01 0.00000000e+00]]\n",
      "\n",
      "  [[6.75165176e-01 0.00000000e+00 0.00000000e+00 ... 0.00000000e+00\n",
      "    9.32786286e-01 0.00000000e+00]\n",
      "   [5.18755555e-01 0.00000000e+00 1.21050668e+00 ... 1.16340108e-01\n",
      "    7.15419054e-01 0.00000000e+00]\n",
      "   [6.17425799e-01 0.00000000e+00 1.34124899e+00 ... 4.70559865e-01\n",
      "    1.23550296e-01 2.15796322e-01]\n",
      "   ...\n",
      "   [4.69681889e-01 0.00000000e+00 6.32544160e-02 ... 2.00737894e-01\n",
      "    1.11459517e+00 0.00000000e+00]\n",
      "   [4.64970171e-02 0.00000000e+00 0.00000000e+00 ... 0.00000000e+00\n",
      "    7.64544129e-01 0.00000000e+00]\n",
      "   [4.96487468e-02 0.00000000e+00 0.00000000e+00 ... 0.00000000e+00\n",
      "    6.52200997e-01 0.00000000e+00]]\n",
      "\n",
      "  [[4.33659881e-01 0.00000000e+00 0.00000000e+00 ... 0.00000000e+00\n",
      "    6.07863486e-01 0.00000000e+00]\n",
      "   [6.97760403e-01 0.00000000e+00 4.40489322e-01 ... 0.00000000e+00\n",
      "    7.63945222e-01 0.00000000e+00]\n",
      "   [1.00053179e+00 0.00000000e+00 3.65804732e-01 ... 0.00000000e+00\n",
      "    0.00000000e+00 0.00000000e+00]\n",
      "   ...\n",
      "   [8.14497292e-01 0.00000000e+00 3.87326807e-01 ... 0.00000000e+00\n",
      "    5.44842541e-01 0.00000000e+00]\n",
      "   [0.00000000e+00 0.00000000e+00 0.00000000e+00 ... 0.00000000e+00\n",
      "    6.37416482e-01 0.00000000e+00]\n",
      "   [0.00000000e+00 0.00000000e+00 0.00000000e+00 ... 0.00000000e+00\n",
      "    4.30150568e-01 0.00000000e+00]]\n",
      "\n",
      "  ...\n",
      "\n",
      "  [[3.54413331e-01 0.00000000e+00 0.00000000e+00 ... 0.00000000e+00\n",
      "    6.45500720e-01 0.00000000e+00]\n",
      "   [0.00000000e+00 0.00000000e+00 3.64198267e-01 ... 0.00000000e+00\n",
      "    1.18480647e+00 0.00000000e+00]\n",
      "   [1.96117371e-01 0.00000000e+00 7.44675756e-01 ... 0.00000000e+00\n",
      "    3.56948584e-01 0.00000000e+00]\n",
      "   ...\n",
      "   [1.64511085e-01 3.31927419e-01 6.59318984e-01 ... 0.00000000e+00\n",
      "    1.87187105e-01 0.00000000e+00]\n",
      "   [0.00000000e+00 0.00000000e+00 0.00000000e+00 ... 0.00000000e+00\n",
      "    6.27904713e-01 0.00000000e+00]\n",
      "   [0.00000000e+00 0.00000000e+00 0.00000000e+00 ... 0.00000000e+00\n",
      "    4.23119366e-01 0.00000000e+00]]\n",
      "\n",
      "  [[4.07837689e-01 0.00000000e+00 0.00000000e+00 ... 0.00000000e+00\n",
      "    6.00833774e-01 0.00000000e+00]\n",
      "   [1.52882561e-01 0.00000000e+00 0.00000000e+00 ... 0.00000000e+00\n",
      "    1.26926088e+00 0.00000000e+00]\n",
      "   [0.00000000e+00 0.00000000e+00 6.77286506e-01 ... 0.00000000e+00\n",
      "    1.18739462e+00 0.00000000e+00]\n",
      "   ...\n",
      "   [1.94572821e-01 0.00000000e+00 7.14387417e-01 ... 0.00000000e+00\n",
      "    6.55267060e-01 0.00000000e+00]\n",
      "   [0.00000000e+00 0.00000000e+00 0.00000000e+00 ... 0.00000000e+00\n",
      "    5.60734153e-01 0.00000000e+00]\n",
      "   [0.00000000e+00 0.00000000e+00 0.00000000e+00 ... 0.00000000e+00\n",
      "    3.75418663e-01 0.00000000e+00]]\n",
      "\n",
      "  [[0.00000000e+00 0.00000000e+00 0.00000000e+00 ... 0.00000000e+00\n",
      "    7.07058311e-01 0.00000000e+00]\n",
      "   [0.00000000e+00 0.00000000e+00 0.00000000e+00 ... 0.00000000e+00\n",
      "    5.70728898e-01 0.00000000e+00]\n",
      "   [0.00000000e+00 0.00000000e+00 4.32805419e-02 ... 0.00000000e+00\n",
      "    6.65341496e-01 0.00000000e+00]\n",
      "   ...\n",
      "   [0.00000000e+00 0.00000000e+00 0.00000000e+00 ... 0.00000000e+00\n",
      "    4.44046378e-01 0.00000000e+00]\n",
      "   [0.00000000e+00 0.00000000e+00 0.00000000e+00 ... 0.00000000e+00\n",
      "    3.40202093e-01 0.00000000e+00]\n",
      "   [6.79454654e-02 0.00000000e+00 0.00000000e+00 ... 0.00000000e+00\n",
      "    4.36539412e-01 0.00000000e+00]]]\n",
      "\n",
      "\n",
      " ...\n",
      "\n",
      "\n",
      " [[[2.77962089e-01 0.00000000e+00 0.00000000e+00 ... 0.00000000e+00\n",
      "    7.59022474e-01 0.00000000e+00]\n",
      "   [2.10890427e-01 0.00000000e+00 0.00000000e+00 ... 0.00000000e+00\n",
      "    6.45528197e-01 0.00000000e+00]\n",
      "   [0.00000000e+00 0.00000000e+00 0.00000000e+00 ... 0.00000000e+00\n",
      "    3.06156039e-01 0.00000000e+00]\n",
      "   ...\n",
      "   [7.65709952e-02 0.00000000e+00 0.00000000e+00 ... 0.00000000e+00\n",
      "    4.90672410e-01 0.00000000e+00]\n",
      "   [1.68913573e-01 0.00000000e+00 0.00000000e+00 ... 0.00000000e+00\n",
      "    6.91591799e-01 0.00000000e+00]\n",
      "   [1.58170596e-01 0.00000000e+00 0.00000000e+00 ... 0.00000000e+00\n",
      "    7.52174616e-01 0.00000000e+00]]\n",
      "\n",
      "  [[0.00000000e+00 0.00000000e+00 0.00000000e+00 ... 0.00000000e+00\n",
      "    5.87323725e-01 0.00000000e+00]\n",
      "   [0.00000000e+00 0.00000000e+00 0.00000000e+00 ... 0.00000000e+00\n",
      "    5.30910790e-01 0.00000000e+00]\n",
      "   [0.00000000e+00 0.00000000e+00 7.22792864e-01 ... 4.86614019e-01\n",
      "    2.27496266e-01 0.00000000e+00]\n",
      "   ...\n",
      "   [0.00000000e+00 0.00000000e+00 2.91275799e-01 ... 1.38625443e-01\n",
      "    3.95227283e-01 0.00000000e+00]\n",
      "   [0.00000000e+00 0.00000000e+00 0.00000000e+00 ... 0.00000000e+00\n",
      "    5.14201224e-01 0.00000000e+00]\n",
      "   [0.00000000e+00 0.00000000e+00 0.00000000e+00 ... 0.00000000e+00\n",
      "    5.94563961e-01 0.00000000e+00]]\n",
      "\n",
      "  [[0.00000000e+00 0.00000000e+00 1.10778183e-01 ... 0.00000000e+00\n",
      "    1.24503601e+00 0.00000000e+00]\n",
      "   [0.00000000e+00 0.00000000e+00 0.00000000e+00 ... 0.00000000e+00\n",
      "    4.23695505e-01 0.00000000e+00]\n",
      "   [0.00000000e+00 0.00000000e+00 7.24857867e-01 ... 1.27987653e-01\n",
      "    3.89741361e-01 0.00000000e+00]\n",
      "   ...\n",
      "   [0.00000000e+00 0.00000000e+00 4.00016963e-01 ... 1.33965030e-01\n",
      "    2.96326399e-01 0.00000000e+00]\n",
      "   [0.00000000e+00 0.00000000e+00 0.00000000e+00 ... 0.00000000e+00\n",
      "    5.04090369e-01 0.00000000e+00]\n",
      "   [0.00000000e+00 0.00000000e+00 0.00000000e+00 ... 0.00000000e+00\n",
      "    6.15781486e-01 0.00000000e+00]]\n",
      "\n",
      "  ...\n",
      "\n",
      "  [[0.00000000e+00 0.00000000e+00 0.00000000e+00 ... 0.00000000e+00\n",
      "    1.34632349e+00 0.00000000e+00]\n",
      "   [0.00000000e+00 0.00000000e+00 6.43011749e-01 ... 0.00000000e+00\n",
      "    1.63106382e+00 0.00000000e+00]\n",
      "   [0.00000000e+00 0.00000000e+00 1.01285982e+00 ... 0.00000000e+00\n",
      "    1.48830283e+00 0.00000000e+00]\n",
      "   ...\n",
      "   [2.53828496e-01 0.00000000e+00 2.45893747e-01 ... 0.00000000e+00\n",
      "    7.90464878e-01 0.00000000e+00]\n",
      "   [1.21133916e-01 0.00000000e+00 0.00000000e+00 ... 0.00000000e+00\n",
      "    5.07814705e-01 0.00000000e+00]\n",
      "   [0.00000000e+00 0.00000000e+00 0.00000000e+00 ... 0.00000000e+00\n",
      "    3.98586988e-01 0.00000000e+00]]\n",
      "\n",
      "  [[0.00000000e+00 0.00000000e+00 0.00000000e+00 ... 3.99015620e-02\n",
      "    1.34220672e+00 0.00000000e+00]\n",
      "   [0.00000000e+00 0.00000000e+00 6.79775238e-01 ... 2.73587614e-01\n",
      "    1.62597466e+00 0.00000000e+00]\n",
      "   [0.00000000e+00 0.00000000e+00 1.37078023e+00 ... 0.00000000e+00\n",
      "    1.75564671e+00 0.00000000e+00]\n",
      "   ...\n",
      "   [0.00000000e+00 0.00000000e+00 2.93850899e-01 ... 0.00000000e+00\n",
      "    1.37390518e+00 0.00000000e+00]\n",
      "   [0.00000000e+00 0.00000000e+00 1.83160990e-01 ... 0.00000000e+00\n",
      "    1.51765156e+00 0.00000000e+00]\n",
      "   [0.00000000e+00 0.00000000e+00 0.00000000e+00 ... 0.00000000e+00\n",
      "    4.97628450e-01 0.00000000e+00]]\n",
      "\n",
      "  [[0.00000000e+00 0.00000000e+00 0.00000000e+00 ... 0.00000000e+00\n",
      "    1.73606968e+00 0.00000000e+00]\n",
      "   [0.00000000e+00 0.00000000e+00 3.80915403e-03 ... 0.00000000e+00\n",
      "    1.00736690e+00 0.00000000e+00]\n",
      "   [0.00000000e+00 0.00000000e+00 6.25692248e-01 ... 0.00000000e+00\n",
      "    9.75181103e-01 0.00000000e+00]\n",
      "   ...\n",
      "   [0.00000000e+00 0.00000000e+00 2.93635547e-01 ... 0.00000000e+00\n",
      "    1.32252169e+00 0.00000000e+00]\n",
      "   [0.00000000e+00 0.00000000e+00 1.80633038e-01 ... 0.00000000e+00\n",
      "    1.34793413e+00 0.00000000e+00]\n",
      "   [0.00000000e+00 0.00000000e+00 2.66640127e-01 ... 1.33897662e-02\n",
      "    1.01395643e+00 0.00000000e+00]]]\n",
      "\n",
      "\n",
      " [[[3.19847614e-01 0.00000000e+00 0.00000000e+00 ... 0.00000000e+00\n",
      "    6.40549123e-01 0.00000000e+00]\n",
      "   [6.11765683e-03 0.00000000e+00 6.50527060e-01 ... 0.00000000e+00\n",
      "    8.13049853e-01 0.00000000e+00]\n",
      "   [0.00000000e+00 0.00000000e+00 1.77103472e+00 ... 0.00000000e+00\n",
      "    5.48596680e-01 0.00000000e+00]\n",
      "   ...\n",
      "   [0.00000000e+00 0.00000000e+00 0.00000000e+00 ... 0.00000000e+00\n",
      "    1.22478902e-01 0.00000000e+00]\n",
      "   [0.00000000e+00 0.00000000e+00 5.24263859e-01 ... 0.00000000e+00\n",
      "    4.55555439e-01 0.00000000e+00]\n",
      "   [2.09953845e-01 0.00000000e+00 0.00000000e+00 ... 0.00000000e+00\n",
      "    5.04809380e-01 0.00000000e+00]]\n",
      "\n",
      "  [[0.00000000e+00 0.00000000e+00 1.12915546e-01 ... 0.00000000e+00\n",
      "    6.99314356e-01 0.00000000e+00]\n",
      "   [0.00000000e+00 0.00000000e+00 1.81916404e+00 ... 0.00000000e+00\n",
      "    6.99354231e-01 0.00000000e+00]\n",
      "   [0.00000000e+00 0.00000000e+00 2.38246107e+00 ... 0.00000000e+00\n",
      "    3.09370250e-01 0.00000000e+00]\n",
      "   ...\n",
      "   [4.18331623e-02 0.00000000e+00 2.50720763e+00 ... 4.51321229e-02\n",
      "    0.00000000e+00 0.00000000e+00]\n",
      "   [0.00000000e+00 0.00000000e+00 2.63844466e+00 ... 0.00000000e+00\n",
      "    5.42576313e-02 0.00000000e+00]\n",
      "   [0.00000000e+00 0.00000000e+00 5.56359708e-01 ... 0.00000000e+00\n",
      "    4.85108465e-01 0.00000000e+00]]\n",
      "\n",
      "  [[2.59934425e-01 0.00000000e+00 1.45723522e+00 ... 1.33848518e-01\n",
      "    7.68074155e-01 0.00000000e+00]\n",
      "   [5.75470775e-02 0.00000000e+00 1.61172152e+00 ... 4.73326892e-02\n",
      "    5.01057923e-01 0.00000000e+00]\n",
      "   [3.53668630e-01 0.00000000e+00 1.75067663e+00 ... 0.00000000e+00\n",
      "    3.41262072e-01 0.00000000e+00]\n",
      "   ...\n",
      "   [2.99230099e-01 0.00000000e+00 2.31963301e+00 ... 0.00000000e+00\n",
      "    0.00000000e+00 0.00000000e+00]\n",
      "   [4.33975279e-01 0.00000000e+00 2.57566381e+00 ... 5.67483120e-02\n",
      "    0.00000000e+00 0.00000000e+00]\n",
      "   [9.75649357e-02 0.00000000e+00 3.20059448e-01 ... 0.00000000e+00\n",
      "    2.76800901e-01 0.00000000e+00]]\n",
      "\n",
      "  ...\n",
      "\n",
      "  [[0.00000000e+00 0.00000000e+00 1.31988108e-01 ... 0.00000000e+00\n",
      "    7.23044753e-01 0.00000000e+00]\n",
      "   [0.00000000e+00 0.00000000e+00 2.37341225e-01 ... 0.00000000e+00\n",
      "    3.12434614e-01 0.00000000e+00]\n",
      "   [3.15112919e-02 0.00000000e+00 1.55048275e+00 ... 0.00000000e+00\n",
      "    1.19552612e-01 0.00000000e+00]\n",
      "   ...\n",
      "   [4.91772890e-01 0.00000000e+00 2.21781754e+00 ... 0.00000000e+00\n",
      "    0.00000000e+00 0.00000000e+00]\n",
      "   [7.74667799e-01 0.00000000e+00 1.23377180e+00 ... 0.00000000e+00\n",
      "    9.00887489e-01 0.00000000e+00]\n",
      "   [2.48728320e-01 0.00000000e+00 0.00000000e+00 ... 0.00000000e+00\n",
      "    1.12245893e+00 0.00000000e+00]]\n",
      "\n",
      "  [[0.00000000e+00 0.00000000e+00 0.00000000e+00 ... 0.00000000e+00\n",
      "    1.68426347e+00 0.00000000e+00]\n",
      "   [1.68217182e-01 0.00000000e+00 2.82227397e-01 ... 0.00000000e+00\n",
      "    1.19100034e+00 0.00000000e+00]\n",
      "   [0.00000000e+00 0.00000000e+00 1.04251289e+00 ... 0.00000000e+00\n",
      "    8.33142459e-01 0.00000000e+00]\n",
      "   ...\n",
      "   [0.00000000e+00 0.00000000e+00 1.26738358e+00 ... 3.90217975e-02\n",
      "    7.21027195e-01 0.00000000e+00]\n",
      "   [0.00000000e+00 0.00000000e+00 5.74247003e-01 ... 1.62875950e-01\n",
      "    1.20192289e+00 0.00000000e+00]\n",
      "   [0.00000000e+00 0.00000000e+00 4.13878143e-01 ... 0.00000000e+00\n",
      "    1.64585233e+00 0.00000000e+00]]\n",
      "\n",
      "  [[2.03684121e-01 0.00000000e+00 9.94930983e-01 ... 2.41558075e-01\n",
      "    1.72743130e+00 0.00000000e+00]\n",
      "   [1.47220358e-01 0.00000000e+00 6.75165057e-01 ... 0.00000000e+00\n",
      "    1.93928647e+00 0.00000000e+00]\n",
      "   [0.00000000e+00 0.00000000e+00 4.43516463e-01 ... 0.00000000e+00\n",
      "    1.38155174e+00 0.00000000e+00]\n",
      "   ...\n",
      "   [0.00000000e+00 0.00000000e+00 0.00000000e+00 ... 0.00000000e+00\n",
      "    7.01765776e-01 0.00000000e+00]\n",
      "   [0.00000000e+00 0.00000000e+00 0.00000000e+00 ... 0.00000000e+00\n",
      "    7.69592583e-01 0.00000000e+00]\n",
      "   [0.00000000e+00 0.00000000e+00 0.00000000e+00 ... 0.00000000e+00\n",
      "    1.22402656e+00 0.00000000e+00]]]\n",
      "\n",
      "\n",
      " [[[1.25391090e+00 0.00000000e+00 0.00000000e+00 ... 0.00000000e+00\n",
      "    8.35591733e-01 0.00000000e+00]\n",
      "   [1.72402680e+00 0.00000000e+00 0.00000000e+00 ... 0.00000000e+00\n",
      "    5.57704091e-01 0.00000000e+00]\n",
      "   [1.85300577e+00 0.00000000e+00 0.00000000e+00 ... 0.00000000e+00\n",
      "    9.26494062e-01 0.00000000e+00]\n",
      "   ...\n",
      "   [3.30052108e-01 0.00000000e+00 0.00000000e+00 ... 0.00000000e+00\n",
      "    1.20019078e+00 0.00000000e+00]\n",
      "   [3.65668923e-01 0.00000000e+00 0.00000000e+00 ... 0.00000000e+00\n",
      "    1.19963253e+00 0.00000000e+00]\n",
      "   [0.00000000e+00 0.00000000e+00 0.00000000e+00 ... 0.00000000e+00\n",
      "    8.08979750e-01 0.00000000e+00]]\n",
      "\n",
      "  [[1.44044590e+00 0.00000000e+00 0.00000000e+00 ... 0.00000000e+00\n",
      "    9.89774346e-01 0.00000000e+00]\n",
      "   [2.00438285e+00 0.00000000e+00 2.41991878e-02 ... 0.00000000e+00\n",
      "    5.24749815e-01 0.00000000e+00]\n",
      "   [1.94667864e+00 0.00000000e+00 0.00000000e+00 ... 0.00000000e+00\n",
      "    8.48160326e-01 0.00000000e+00]\n",
      "   ...\n",
      "   [0.00000000e+00 0.00000000e+00 2.84154683e-01 ... 0.00000000e+00\n",
      "    1.14489901e+00 0.00000000e+00]\n",
      "   [0.00000000e+00 0.00000000e+00 3.36278617e-01 ... 0.00000000e+00\n",
      "    1.39809823e+00 0.00000000e+00]\n",
      "   [0.00000000e+00 0.00000000e+00 0.00000000e+00 ... 0.00000000e+00\n",
      "    1.32816887e+00 0.00000000e+00]]\n",
      "\n",
      "  [[4.41698313e-01 0.00000000e+00 0.00000000e+00 ... 0.00000000e+00\n",
      "    9.77432549e-01 0.00000000e+00]\n",
      "   [8.92174304e-01 0.00000000e+00 3.95393401e-01 ... 0.00000000e+00\n",
      "    7.65424311e-01 0.00000000e+00]\n",
      "   [7.84016788e-01 0.00000000e+00 6.41020536e-01 ... 0.00000000e+00\n",
      "    9.70279574e-01 0.00000000e+00]\n",
      "   ...\n",
      "   [1.14848942e-01 0.00000000e+00 9.06545997e-01 ... 0.00000000e+00\n",
      "    1.18663752e+00 0.00000000e+00]\n",
      "   [0.00000000e+00 0.00000000e+00 5.72264850e-01 ... 0.00000000e+00\n",
      "    1.56272137e+00 0.00000000e+00]\n",
      "   [0.00000000e+00 0.00000000e+00 1.08716905e-01 ... 0.00000000e+00\n",
      "    1.69104505e+00 0.00000000e+00]]\n",
      "\n",
      "  ...\n",
      "\n",
      "  [[0.00000000e+00 0.00000000e+00 3.14983785e-01 ... 0.00000000e+00\n",
      "    1.03803754e+00 0.00000000e+00]\n",
      "   [0.00000000e+00 0.00000000e+00 6.63549006e-01 ... 0.00000000e+00\n",
      "    1.08120739e+00 0.00000000e+00]\n",
      "   [2.18529940e-01 0.00000000e+00 9.15153563e-01 ... 0.00000000e+00\n",
      "    1.40676880e+00 0.00000000e+00]\n",
      "   ...\n",
      "   [5.63499928e-01 0.00000000e+00 8.35091829e-01 ... 0.00000000e+00\n",
      "    9.15365934e-01 0.00000000e+00]\n",
      "   [1.82245314e-01 0.00000000e+00 8.49438548e-01 ... 0.00000000e+00\n",
      "    1.02186668e+00 0.00000000e+00]\n",
      "   [1.26971364e-01 0.00000000e+00 1.39717877e-01 ... 0.00000000e+00\n",
      "    1.04938757e+00 0.00000000e+00]]\n",
      "\n",
      "  [[0.00000000e+00 0.00000000e+00 1.15901411e-01 ... 0.00000000e+00\n",
      "    1.11672997e+00 0.00000000e+00]\n",
      "   [0.00000000e+00 0.00000000e+00 5.83279788e-01 ... 0.00000000e+00\n",
      "    1.00962019e+00 0.00000000e+00]\n",
      "   [7.08052143e-02 0.00000000e+00 7.65427887e-01 ... 0.00000000e+00\n",
      "    1.22994375e+00 0.00000000e+00]\n",
      "   ...\n",
      "   [0.00000000e+00 0.00000000e+00 1.15506244e+00 ... 0.00000000e+00\n",
      "    5.70693135e-01 0.00000000e+00]\n",
      "   [6.16930723e-01 0.00000000e+00 8.27363074e-01 ... 0.00000000e+00\n",
      "    7.14016736e-01 0.00000000e+00]\n",
      "   [1.40128946e+00 0.00000000e+00 0.00000000e+00 ... 0.00000000e+00\n",
      "    8.27146113e-01 0.00000000e+00]]\n",
      "\n",
      "  [[0.00000000e+00 0.00000000e+00 1.01966739e-01 ... 0.00000000e+00\n",
      "    1.09681654e+00 0.00000000e+00]\n",
      "   [0.00000000e+00 0.00000000e+00 3.22176933e-01 ... 0.00000000e+00\n",
      "    1.04111600e+00 0.00000000e+00]\n",
      "   [0.00000000e+00 0.00000000e+00 5.32160342e-01 ... 0.00000000e+00\n",
      "    1.11228967e+00 0.00000000e+00]\n",
      "   ...\n",
      "   [0.00000000e+00 0.00000000e+00 6.70512557e-01 ... 0.00000000e+00\n",
      "    7.56995499e-01 0.00000000e+00]\n",
      "   [6.53010607e-01 0.00000000e+00 5.78189790e-02 ... 0.00000000e+00\n",
      "    1.21809459e+00 0.00000000e+00]\n",
      "   [1.18682408e+00 0.00000000e+00 0.00000000e+00 ... 0.00000000e+00\n",
      "    1.06893003e+00 0.00000000e+00]]]]\n"
     ]
    },
    {
     "name": "stdout",
     "output_type": "stream",
     "text": [
      "rounded test_labels [[1. 0. 0. 0. 0. 0.]\n",
      " [1. 0. 0. 0. 0. 0.]\n",
      " [0. 1. 0. 0. 0. 0.]\n",
      " ...\n",
      " [0. 0. 0. 0. 0. 1.]\n",
      " [0. 0. 0. 0. 0. 1.]\n",
      " [0. 0. 0. 0. 0. 1.]]\n"
     ]
    }
   ],
   "source": [
    "print('test data', test_data)\n",
    "preds = np.round(model.predict(test_data),0) \n",
    "#to fit them into classification metrics and confusion metrics, some additional modificaitions are required\n",
    "print('rounded test_labels', preds)"
   ]
  },
  {
   "cell_type": "code",
   "execution_count": 31,
   "metadata": {
    "scrolled": false
   },
   "outputs": [
    {
     "name": "stdout",
     "output_type": "stream",
     "text": [
      "              precision    recall  f1-score   support\n",
      "\n",
      " butterflies       0.98      0.85      0.91       371\n",
      "    chickens       0.88      0.86      0.87       203\n",
      "   elephants       0.96      0.78      0.86       152\n",
      "      horses       0.98      0.92      0.95       472\n",
      "     spiders       0.87      0.98      0.92       403\n",
      "   squirells       0.85      0.94      0.89       244\n",
      "\n",
      "   micro avg       0.92      0.90      0.91      1845\n",
      "   macro avg       0.92      0.89      0.90      1845\n",
      "weighted avg       0.93      0.90      0.91      1845\n",
      " samples avg       0.90      0.90      0.90      1845\n",
      "\n"
     ]
    }
   ],
   "source": [
    "animals = ['butterflies', 'chickens', 'elephants', 'horses', 'spiders', 'squirells']\n",
    "classification_metrics = metrics.classification_report(test_labels, preds, target_names=animals )\n",
    "print(classification_metrics)"
   ]
  },
  {
   "cell_type": "markdown",
   "metadata": {},
   "source": [
    "### Confusion Matrix"
   ]
  },
  {
   "cell_type": "code",
   "execution_count": 32,
   "metadata": {},
   "outputs": [],
   "source": [
    "#Since our data is in dummy format we put the numpy array into a dataframe and call idxmax axis=1 to return the column\n",
    "# label of the maximum value thus creating a categorical variable\n",
    "#Basically, flipping a dummy variable back to it's categorical variable\n",
    "categorical_test_labels = pd.DataFrame(test_labels).idxmax(axis=1)\n",
    "categorical_preds = pd.DataFrame(preds).idxmax(axis=1)"
   ]
  },
  {
   "cell_type": "code",
   "execution_count": 33,
   "metadata": {},
   "outputs": [],
   "source": [
    "confusion_matrix= confusion_matrix(categorical_test_labels, categorical_preds)"
   ]
  },
  {
   "cell_type": "code",
   "execution_count": 34,
   "metadata": {},
   "outputs": [],
   "source": [
    "#To get better visual of the confusion matrix:\n",
    "def plot_confusion_matrix(cm, classes,\n",
    "             normalize=False,\n",
    "             title='Confusion matrix',\n",
    "             cmap=plt.cm.Blues):\n",
    "    #Add Normalization Option\n",
    "    '''prints pretty confusion metric with normalization option '''\n",
    "    if normalize:\n",
    "        cm = cm.astype('float') / cm.sum(axis=1)[:, np.newaxis]\n",
    "        print(\"Normalized confusion matrix\")\n",
    "    else:\n",
    "        print('Confusion matrix, without normalization')\n",
    "    \n",
    "#     print(cm)\n",
    "    \n",
    "    plt.imshow(cm, interpolation='nearest', cmap=cmap)\n",
    "    plt.title(title)\n",
    "    plt.colorbar()\n",
    "    tick_marks = np.arange(len(classes))\n",
    "    plt.xticks(tick_marks, classes, rotation=45)\n",
    "    plt.yticks(tick_marks, classes)\n",
    "    \n",
    "    fmt = '.2f' if normalize else 'd'\n",
    "    thresh = cm.max() / 2.\n",
    "    for i, j in itertools.product(range(cm.shape[0]), range(cm.shape[1])):\n",
    "        plt.text(j, i, format(cm[i, j], fmt), horizontalalignment=\"center\", color=\"white\" if cm[i, j] > thresh else \"black\")\n",
    "    \n",
    "    plt.tight_layout()\n",
    "    plt.ylabel('True label')\n",
    "    plt.xlabel('Predicted label')\n"
   ]
  },
  {
   "cell_type": "code",
   "execution_count": 35,
   "metadata": {},
   "outputs": [
    {
     "name": "stdout",
     "output_type": "stream",
     "text": [
      "Confusion matrix, without normalization\n"
     ]
    },
    {
     "data": {
      "image/png": "[encoded data removed]",
      "text/plain": [
       "<Figure size 432x288 with 2 Axes>"
      ]
     },
     "metadata": {
      "needs_background": "light"
     },
     "output_type": "display_data"
    }
   ],
   "source": [
    "plot_confusion_matrix(confusion_matrix, ['butterflies', 'chickens', 'elephants', 'horses', 'spiders', 'squirells'])"
   ]
  },
  {
   "cell_type": "code",
   "execution_count": 36,
   "metadata": {},
   "outputs": [
    {
     "name": "stdout",
     "output_type": "stream",
     "text": [
      "Normalized confusion matrix\n"
     ]
    },
    {
     "data": {
      "image/png": "[encoded data removed]",
      "text/plain": [
       "<Figure size 432x288 with 2 Axes>"
      ]
     },
     "metadata": {
      "needs_background": "light"
     },
     "output_type": "display_data"
    }
   ],
   "source": [
    "#Those numbers are all over the place. Now turning normalize= True\n",
    "plot_confusion_matrix(confusion_matrix, \n",
    "                      ['butterflies', 'chickens', 'elephants', 'horses', 'spiders', 'squirells'],\n",
    "                     normalize=True)"
   ]
  },
  {
   "cell_type": "markdown",
   "metadata": {},
   "source": [
    "## Testing images on model"
   ]
  },
  {
   "cell_type": "code",
   "execution_count": 37,
   "metadata": {},
   "outputs": [],
   "source": [
    "def read_image(file_path):\n",
    "    print(\"[INFO] loading and preprocessing image...\")  \n",
    "    image = load_img(file_path, target_size=(224, 224))  \n",
    "    image = img_to_array(image)  \n",
    "    image = np.expand_dims(image, axis=0)\n",
    "    image /= 255.  \n",
    "    return image"
   ]
  },
  {
   "cell_type": "code",
   "execution_count": 65,
   "metadata": {},
   "outputs": [],
   "source": [
    "def test_single_image(path):\n",
    "    animals = ['butterflies', 'chickens', 'elephants', 'horses', 'spiders', 'squirells']\n",
    "    images = read_image(path)\n",
    "    time.sleep(.5)\n",
    "    bt_prediction = vgg16.predict(images)  \n",
    "    preds = model.predict_proba(bt_prediction)\n",
    "    for idx, animal, x in zip(range(0,6), animals , preds[0]):\n",
    "        print(\"ID: {}, Label: {} {}%\".format(idx, animal, round(x*100,2) ))\n",
    "    print('Final Decision:')\n",
    "    time.sleep(.5)\n",
    "    for x in range(3):\n",
    "        print('.'*(x+1))\n",
    "        time.sleep(.2)\n",
    "    class_predicted = model.predict_classes(bt_prediction)\n",
    "    class_dictionary = generator_top.class_indices  \n",
    "    inv_map = {v: k for k, v in class_dictionary.items()}  \n",
    "    print(\"ID: {}, Label: {}\".format(class_predicted[0], inv_map[class_predicted[0]]))  \n",
    "    return load_img(path)"
   ]
  },
  {
   "cell_type": "code",
   "execution_count": 70,
   "metadata": {},
   "outputs": [],
   "source": [
    "path = 'data/scrat.jpg'"
   ]
  },
  {
   "cell_type": "code",
   "execution_count": null,
   "metadata": {},
   "outputs": [],
   "source": [
    "test_single_image(path)"
   ]
  },
  {
   "cell_type": "code",
   "execution_count": null,
   "metadata": {},
   "outputs": [],
   "source": []
  },
  {
   "cell_type": "code",
   "execution_count": null,
   "metadata": {},
   "outputs": [],
   "source": []
  },
  {
   "cell_type": "code",
   "execution_count": null,
   "metadata": {},
   "outputs": [],
   "source": []
  },
  {
   "cell_type": "code",
   "execution_count": null,
   "metadata": {},
   "outputs": [],
   "source": []
  },
  {
   "cell_type": "code",
   "execution_count": null,
   "metadata": {},
   "outputs": [],
   "source": []
  },
  {
   "cell_type": "code",
   "execution_count": null,
   "metadata": {},
   "outputs": [],
   "source": []
  }
 ],
 "metadata": {
  "kernelspec": {
   "display_name": "Python 3",
   "language": "python",
   "name": "python3"
  },
  "language_info": {
   "codemirror_mode": {
    "name": "ipython",
    "version": 3
   },
   "file_extension": ".py",
   "mimetype": "text/x-python",
   "name": "python",
   "nbconvert_exporter": "python",
   "pygments_lexer": "ipython3",
   "version": "3.6.6"
  }
 },
 "nbformat": 4,
 "nbformat_minor": 2
}
